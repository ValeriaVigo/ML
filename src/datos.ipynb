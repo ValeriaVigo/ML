{
 "cells": [
  {
   "cell_type": "code",
   "execution_count": 2,
   "metadata": {},
   "outputs": [],
   "source": [
    "import pandas as pd\n",
    "import urllib.request\n",
    "import ssl\n",
    "\n",
    "# URL del archivo CSV\n",
    "url = 'https://raw.githubusercontent.com/4GeeksAcademy/logistic-regression-project-tutorial/main/bank-marketing-campaign-data.csv'\n",
    "\n",
    "# Crear un contexto SSL sin verificar\n",
    "ssl_context = ssl._create_unverified_context()\n",
    "\n",
    "# Leer el archivo CSV directamente desde la URL\n",
    "with urllib.request.urlopen(url, context=ssl_context) as response:\n",
    "    df = pd.read_csv(response, sep=';')\n",
    "\n",
    "# Guardar los datos en un archivo CSV sin las comillas adicionales\n",
    "df.to_csv('/workspaces/ML/data/raw/datos.csv', index=False)\n",
    "\n",
    "\n"
   ]
  }
 ],
 "metadata": {
  "kernelspec": {
   "display_name": "Python 3",
   "language": "python",
   "name": "python3"
  },
  "language_info": {
   "codemirror_mode": {
    "name": "ipython",
    "version": 3
   },
   "file_extension": ".py",
   "mimetype": "text/x-python",
   "name": "python",
   "nbconvert_exporter": "python",
   "pygments_lexer": "ipython3",
   "version": "3.10.12"
  }
 },
 "nbformat": 4,
 "nbformat_minor": 2
}
